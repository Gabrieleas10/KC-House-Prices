{
  "nbformat": 4,
  "nbformat_minor": 0,
  "metadata": {
    "colab": {
      "name": "houses_price.ipynb",
      "provenance": [],
      "collapsed_sections": [],
      "authorship_tag": "ABX9TyNncXx+xZl4mHGJNgtnz83u",
      "include_colab_link": true
    },
    "kernelspec": {
      "name": "python3",
      "display_name": "Python 3"
    },
    "language_info": {
      "name": "python"
    },
    "widgets": {
      "application/vnd.jupyter.widget-state+json": {
        "cdcd231abd3c4f52b127bd986306c610": {
          "model_module": "@jupyter-widgets/controls",
          "model_name": "ButtonModel",
          "state": {
            "_view_name": "ButtonView",
            "style": "IPY_MODEL_f6a81e6500b440e8a2be01749db488fe",
            "_dom_classes": [],
            "description": "Toggle Pandas/Lux",
            "_model_name": "ButtonModel",
            "button_style": "",
            "_view_module": "@jupyter-widgets/controls",
            "_model_module_version": "1.5.0",
            "tooltip": "",
            "_view_count": null,
            "disabled": false,
            "_view_module_version": "1.5.0",
            "layout": "IPY_MODEL_d4e574561e1d4d5fb55e5a90fcf770cd",
            "_model_module": "@jupyter-widgets/controls",
            "icon": ""
          }
        },
        "f6a81e6500b440e8a2be01749db488fe": {
          "model_module": "@jupyter-widgets/controls",
          "model_name": "ButtonStyleModel",
          "state": {
            "_view_name": "StyleView",
            "_model_name": "ButtonStyleModel",
            "_view_module": "@jupyter-widgets/base",
            "_model_module_version": "1.5.0",
            "_view_count": null,
            "button_color": null,
            "font_weight": "",
            "_view_module_version": "1.2.0",
            "_model_module": "@jupyter-widgets/controls"
          }
        },
        "d4e574561e1d4d5fb55e5a90fcf770cd": {
          "model_module": "@jupyter-widgets/base",
          "model_name": "LayoutModel",
          "state": {
            "_view_name": "LayoutView",
            "grid_template_rows": null,
            "right": null,
            "justify_content": null,
            "_view_module": "@jupyter-widgets/base",
            "overflow": null,
            "_model_module_version": "1.2.0",
            "_view_count": null,
            "flex_flow": null,
            "width": "140px",
            "min_width": null,
            "border": null,
            "align_items": null,
            "bottom": null,
            "_model_module": "@jupyter-widgets/base",
            "top": "5px",
            "grid_column": null,
            "overflow_y": null,
            "overflow_x": null,
            "grid_auto_flow": null,
            "grid_area": null,
            "grid_template_columns": null,
            "flex": null,
            "_model_name": "LayoutModel",
            "justify_items": null,
            "grid_row": null,
            "max_height": null,
            "align_content": null,
            "visibility": null,
            "align_self": null,
            "height": null,
            "min_height": null,
            "padding": null,
            "grid_auto_rows": null,
            "grid_gap": null,
            "max_width": null,
            "order": null,
            "_view_module_version": "1.2.0",
            "grid_template_areas": null,
            "object_position": null,
            "object_fit": null,
            "grid_auto_columns": null,
            "margin": null,
            "display": null,
            "left": null
          }
        },
        "c3564cfd3e6b4cba87a55bc2ba2640b9": {
          "model_module": "@jupyter-widgets/output",
          "model_name": "OutputModel",
          "state": {
            "_view_name": "OutputView",
            "msg_id": "",
            "_dom_classes": [],
            "_model_name": "OutputModel",
            "outputs": [
              {
                "output_type": "display_data",
                "metadata": {
                  "tags": []
                },
                "text/html": "<div>\n<style scoped>\n    .dataframe tbody tr th:only-of-type {\n        vertical-align: middle;\n    }\n\n    .dataframe tbody tr th {\n        vertical-align: top;\n    }\n\n    .dataframe thead th {\n        text-align: right;\n    }\n</style>\n<table border=\"1\" class=\"dataframe\">\n  <thead>\n    <tr style=\"text-align: right;\">\n      <th></th>\n      <th>id</th>\n      <th>price</th>\n      <th>bedrooms</th>\n      <th>bathrooms</th>\n      <th>sqft_living</th>\n      <th>sqft_lot</th>\n      <th>floors</th>\n      <th>waterfront</th>\n      <th>view</th>\n      <th>condition</th>\n      <th>grade</th>\n      <th>sqft_above</th>\n      <th>sqft_basement</th>\n      <th>yr_built</th>\n      <th>yr_renovated</th>\n      <th>zipcode</th>\n      <th>lat</th>\n      <th>long</th>\n      <th>sqft_living15</th>\n      <th>sqft_lot15</th>\n    </tr>\n  </thead>\n  <tbody>\n    <tr>\n      <th>count</th>\n      <td>2.161300e+04</td>\n      <td>2.161300e+04</td>\n      <td>21613.000000</td>\n      <td>21613.000000</td>\n      <td>21613.000000</td>\n      <td>2.161300e+04</td>\n      <td>21613.000000</td>\n      <td>21613.000000</td>\n      <td>21613.000000</td>\n      <td>21613.000000</td>\n      <td>21613.000000</td>\n      <td>21613.000000</td>\n      <td>21613.000000</td>\n      <td>21613.000000</td>\n      <td>21613.000000</td>\n      <td>21613.000000</td>\n      <td>21613.000000</td>\n      <td>21613.000000</td>\n      <td>21613.000000</td>\n      <td>21613.000000</td>\n    </tr>\n    <tr>\n      <th>mean</th>\n      <td>4.580302e+09</td>\n      <td>5.400881e+05</td>\n      <td>3.370842</td>\n      <td>2.114757</td>\n      <td>2079.899736</td>\n      <td>1.510697e+04</td>\n      <td>1.494309</td>\n      <td>0.007542</td>\n      <td>0.234303</td>\n      <td>3.409430</td>\n      <td>7.656873</td>\n      <td>1788.390691</td>\n      <td>291.509045</td>\n      <td>1971.005136</td>\n      <td>84.402258</td>\n      <td>98077.939805</td>\n      <td>47.560053</td>\n      <td>-122.213896</td>\n      <td>1986.552492</td>\n      <td>12768.455652</td>\n    </tr>\n    <tr>\n      <th>std</th>\n      <td>2.876566e+09</td>\n      <td>3.671272e+05</td>\n      <td>0.930062</td>\n      <td>0.770163</td>\n      <td>918.440897</td>\n      <td>4.142051e+04</td>\n      <td>0.539989</td>\n      <td>0.086517</td>\n      <td>0.766318</td>\n      <td>0.650743</td>\n      <td>1.175459</td>\n      <td>828.090978</td>\n      <td>442.575043</td>\n      <td>29.373411</td>\n      <td>401.679240</td>\n      <td>53.505026</td>\n      <td>0.138564</td>\n      <td>0.140828</td>\n      <td>685.391304</td>\n      <td>27304.179631</td>\n    </tr>\n    <tr>\n      <th>min</th>\n      <td>1.000102e+06</td>\n      <td>7.500000e+04</td>\n      <td>0.000000</td>\n      <td>0.000000</td>\n      <td>290.000000</td>\n      <td>5.200000e+02</td>\n      <td>1.000000</td>\n      <td>0.000000</td>\n      <td>0.000000</td>\n      <td>1.000000</td>\n      <td>1.000000</td>\n      <td>290.000000</td>\n      <td>0.000000</td>\n      <td>1900.000000</td>\n      <td>0.000000</td>\n      <td>98001.000000</td>\n      <td>47.155900</td>\n      <td>-122.519000</td>\n      <td>399.000000</td>\n      <td>651.000000</td>\n    </tr>\n    <tr>\n      <th>25%</th>\n      <td>2.123049e+09</td>\n      <td>3.219500e+05</td>\n      <td>3.000000</td>\n      <td>1.750000</td>\n      <td>1427.000000</td>\n      <td>5.040000e+03</td>\n      <td>1.000000</td>\n      <td>0.000000</td>\n      <td>0.000000</td>\n      <td>3.000000</td>\n      <td>7.000000</td>\n      <td>1190.000000</td>\n      <td>0.000000</td>\n      <td>1951.000000</td>\n      <td>0.000000</td>\n      <td>98033.000000</td>\n      <td>47.471000</td>\n      <td>-122.328000</td>\n      <td>1490.000000</td>\n      <td>5100.000000</td>\n    </tr>\n    <tr>\n      <th>50%</th>\n      <td>3.904930e+09</td>\n      <td>4.500000e+05</td>\n      <td>3.000000</td>\n      <td>2.250000</td>\n      <td>1910.000000</td>\n      <td>7.618000e+03</td>\n      <td>1.500000</td>\n      <td>0.000000</td>\n      <td>0.000000</td>\n      <td>3.000000</td>\n      <td>7.000000</td>\n      <td>1560.000000</td>\n      <td>0.000000</td>\n      <td>1975.000000</td>\n      <td>0.000000</td>\n      <td>98065.000000</td>\n      <td>47.571800</td>\n      <td>-122.230000</td>\n      <td>1840.000000</td>\n      <td>7620.000000</td>\n    </tr>\n    <tr>\n      <th>75%</th>\n      <td>7.308900e+09</td>\n      <td>6.450000e+05</td>\n      <td>4.000000</td>\n      <td>2.500000</td>\n      <td>2550.000000</td>\n      <td>1.068800e+04</td>\n      <td>2.000000</td>\n      <td>0.000000</td>\n      <td>0.000000</td>\n      <td>4.000000</td>\n      <td>8.000000</td>\n      <td>2210.000000</td>\n      <td>560.000000</td>\n      <td>1997.000000</td>\n      <td>0.000000</td>\n      <td>98118.000000</td>\n      <td>47.678000</td>\n      <td>-122.125000</td>\n      <td>2360.000000</td>\n      <td>10083.000000</td>\n    </tr>\n    <tr>\n      <th>max</th>\n      <td>9.900000e+09</td>\n      <td>7.700000e+06</td>\n      <td>33.000000</td>\n      <td>8.000000</td>\n      <td>13540.000000</td>\n      <td>1.651359e+06</td>\n      <td>3.500000</td>\n      <td>1.000000</td>\n      <td>4.000000</td>\n      <td>5.000000</td>\n      <td>13.000000</td>\n      <td>9410.000000</td>\n      <td>4820.000000</td>\n      <td>2015.000000</td>\n      <td>2015.000000</td>\n      <td>98199.000000</td>\n      <td>47.777600</td>\n      <td>-121.315000</td>\n      <td>6210.000000</td>\n      <td>871200.000000</td>\n    </tr>\n  </tbody>\n</table>\n</div>",
                "text/plain": "                 id         price  ...  sqft_living15     sqft_lot15\ncount  2.161300e+04  2.161300e+04  ...   21613.000000   21613.000000\nmean   4.580302e+09  5.400881e+05  ...    1986.552492   12768.455652\nstd    2.876566e+09  3.671272e+05  ...     685.391304   27304.179631\nmin    1.000102e+06  7.500000e+04  ...     399.000000     651.000000\n25%    2.123049e+09  3.219500e+05  ...    1490.000000    5100.000000\n50%    3.904930e+09  4.500000e+05  ...    1840.000000    7620.000000\n75%    7.308900e+09  6.450000e+05  ...    2360.000000   10083.000000\nmax    9.900000e+09  7.700000e+06  ...    6210.000000  871200.000000\n\n[8 rows x 20 columns]"
              }
            ],
            "_view_module": "@jupyter-widgets/output",
            "_model_module_version": "1.0.0",
            "_view_count": null,
            "_view_module_version": "1.0.0",
            "layout": "IPY_MODEL_633d8cf0382c46c6bbfa9944c7e11a19",
            "_model_module": "@jupyter-widgets/output"
          }
        },
        "633d8cf0382c46c6bbfa9944c7e11a19": {
          "model_module": "@jupyter-widgets/base",
          "model_name": "LayoutModel",
          "state": {
            "_view_name": "LayoutView",
            "grid_template_rows": null,
            "right": null,
            "justify_content": null,
            "_view_module": "@jupyter-widgets/base",
            "overflow": null,
            "_model_module_version": "1.2.0",
            "_view_count": null,
            "flex_flow": null,
            "width": null,
            "min_width": null,
            "border": null,
            "align_items": null,
            "bottom": null,
            "_model_module": "@jupyter-widgets/base",
            "top": null,
            "grid_column": null,
            "overflow_y": null,
            "overflow_x": null,
            "grid_auto_flow": null,
            "grid_area": null,
            "grid_template_columns": null,
            "flex": null,
            "_model_name": "LayoutModel",
            "justify_items": null,
            "grid_row": null,
            "max_height": null,
            "align_content": null,
            "visibility": null,
            "align_self": null,
            "height": null,
            "min_height": null,
            "padding": null,
            "grid_auto_rows": null,
            "grid_gap": null,
            "max_width": null,
            "order": null,
            "_view_module_version": "1.2.0",
            "grid_template_areas": null,
            "object_position": null,
            "object_fit": null,
            "grid_auto_columns": null,
            "margin": null,
            "display": null,
            "left": null
          }
        },
        "5ef5b0cb09ee4696b53359967d320e71": {
          "model_module": "@jupyter-widgets/controls",
          "model_name": "ButtonModel",
          "state": {
            "_view_name": "ButtonView",
            "style": "IPY_MODEL_9e39a38080c54b928a23dd5eeb454bfc",
            "_dom_classes": [],
            "description": "Toggle Pandas/Lux",
            "_model_name": "ButtonModel",
            "button_style": "",
            "_view_module": "@jupyter-widgets/controls",
            "_model_module_version": "1.5.0",
            "tooltip": "",
            "_view_count": null,
            "disabled": false,
            "_view_module_version": "1.5.0",
            "layout": "IPY_MODEL_11141d7e1a114736b555f5f482ce9b7b",
            "_model_module": "@jupyter-widgets/controls",
            "icon": ""
          }
        },
        "9e39a38080c54b928a23dd5eeb454bfc": {
          "model_module": "@jupyter-widgets/controls",
          "model_name": "ButtonStyleModel",
          "state": {
            "_view_name": "StyleView",
            "_model_name": "ButtonStyleModel",
            "_view_module": "@jupyter-widgets/base",
            "_model_module_version": "1.5.0",
            "_view_count": null,
            "button_color": null,
            "font_weight": "",
            "_view_module_version": "1.2.0",
            "_model_module": "@jupyter-widgets/controls"
          }
        },
        "11141d7e1a114736b555f5f482ce9b7b": {
          "model_module": "@jupyter-widgets/base",
          "model_name": "LayoutModel",
          "state": {
            "_view_name": "LayoutView",
            "grid_template_rows": null,
            "right": null,
            "justify_content": null,
            "_view_module": "@jupyter-widgets/base",
            "overflow": null,
            "_model_module_version": "1.2.0",
            "_view_count": null,
            "flex_flow": null,
            "width": "140px",
            "min_width": null,
            "border": null,
            "align_items": null,
            "bottom": null,
            "_model_module": "@jupyter-widgets/base",
            "top": "5px",
            "grid_column": null,
            "overflow_y": null,
            "overflow_x": null,
            "grid_auto_flow": null,
            "grid_area": null,
            "grid_template_columns": null,
            "flex": null,
            "_model_name": "LayoutModel",
            "justify_items": null,
            "grid_row": null,
            "max_height": null,
            "align_content": null,
            "visibility": null,
            "align_self": null,
            "height": null,
            "min_height": null,
            "padding": null,
            "grid_auto_rows": null,
            "grid_gap": null,
            "max_width": null,
            "order": null,
            "_view_module_version": "1.2.0",
            "grid_template_areas": null,
            "object_position": null,
            "object_fit": null,
            "grid_auto_columns": null,
            "margin": null,
            "display": null,
            "left": null
          }
        },
        "6977110e0ac441a1ac7e3f260ea34534": {
          "model_module": "@jupyter-widgets/output",
          "model_name": "OutputModel",
          "state": {
            "_view_name": "OutputView",
            "msg_id": "",
            "_dom_classes": [],
            "_model_name": "OutputModel",
            "outputs": [
              {
                "output_type": "stream",
                "metadata": {
                  "tags": []
                },
                "text": "price            1.000000\ngrade            0.658215\nsqft_living      0.644191\nsqft_living15    0.572290\nsqft_above       0.541752\nbathrooms        0.497160\nlat              0.456409\nbedrooms         0.344652\nfloors           0.322347\nview             0.293931\nsqft_basement    0.251704\nwaterfront       0.115089\nyr_built         0.102038\nyr_renovated     0.101876\nsqft_lot         0.074939\nlong             0.063537\nsqft_lot15       0.062766\ncondition        0.018490\nid               0.004178\nzipcode         -0.008735\ndtype: float64\n",
                "stream": "stdout"
              }
            ],
            "_view_module": "@jupyter-widgets/output",
            "_model_module_version": "1.0.0",
            "_view_count": null,
            "_view_module_version": "1.0.0",
            "layout": "IPY_MODEL_62361827caaa46efa4d2b00353487d9c",
            "_model_module": "@jupyter-widgets/output"
          }
        },
        "62361827caaa46efa4d2b00353487d9c": {
          "model_module": "@jupyter-widgets/base",
          "model_name": "LayoutModel",
          "state": {
            "_view_name": "LayoutView",
            "grid_template_rows": null,
            "right": null,
            "justify_content": null,
            "_view_module": "@jupyter-widgets/base",
            "overflow": null,
            "_model_module_version": "1.2.0",
            "_view_count": null,
            "flex_flow": null,
            "width": null,
            "min_width": null,
            "border": null,
            "align_items": null,
            "bottom": null,
            "_model_module": "@jupyter-widgets/base",
            "top": null,
            "grid_column": null,
            "overflow_y": null,
            "overflow_x": null,
            "grid_auto_flow": null,
            "grid_area": null,
            "grid_template_columns": null,
            "flex": null,
            "_model_name": "LayoutModel",
            "justify_items": null,
            "grid_row": null,
            "max_height": null,
            "align_content": null,
            "visibility": null,
            "align_self": null,
            "height": null,
            "min_height": null,
            "padding": null,
            "grid_auto_rows": null,
            "grid_gap": null,
            "max_width": null,
            "order": null,
            "_view_module_version": "1.2.0",
            "grid_template_areas": null,
            "object_position": null,
            "object_fit": null,
            "grid_auto_columns": null,
            "margin": null,
            "display": null,
            "left": null
          }
        }
      }
    }
  },
  "cells": [
    {
      "cell_type": "markdown",
      "metadata": {
        "id": "view-in-github",
        "colab_type": "text"
      },
      "source": [
        "<a href=\"https://colab.research.google.com/github/Gabrieleas10/KC-House-Prices/blob/main/houses_price.ipynb\" target=\"_parent\"><img src=\"https://colab.research.google.com/assets/colab-badge.svg\" alt=\"Open In Colab\"/></a>"
      ]
    },
    {
      "cell_type": "code",
      "metadata": {
        "colab": {
          "base_uri": "https://localhost:8080/"
        },
        "id": "B339cP1aNBZT",
        "outputId": "cc463674-f9a7-48ed-f3af-2dd1fdd4b812"
      },
      "source": [
        "!pip install lux-widget -q\n",
        "!pip install lux-api -q"
      ],
      "execution_count": null,
      "outputs": [
        {
          "output_type": "stream",
          "text": [
            "\u001b[?25l\r\u001b[K     |▏                               | 10kB 18.1MB/s eta 0:00:01\r\u001b[K     |▎                               | 20kB 20.7MB/s eta 0:00:01\r\u001b[K     |▌                               | 30kB 10.4MB/s eta 0:00:01\r\u001b[K     |▋                               | 40kB 8.2MB/s eta 0:00:01\r\u001b[K     |▊                               | 51kB 4.0MB/s eta 0:00:01\r\u001b[K     |█                               | 61kB 4.5MB/s eta 0:00:01\r\u001b[K     |█                               | 71kB 4.6MB/s eta 0:00:01\r\u001b[K     |█▎                              | 81kB 4.9MB/s eta 0:00:01\r\u001b[K     |█▍                              | 92kB 5.2MB/s eta 0:00:01\r\u001b[K     |█▌                              | 102kB 3.9MB/s eta 0:00:01\r\u001b[K     |█▊                              | 112kB 3.9MB/s eta 0:00:01\r\u001b[K     |█▉                              | 122kB 3.9MB/s eta 0:00:01\r\u001b[K     |██                              | 133kB 3.9MB/s eta 0:00:01\r\u001b[K     |██▏                             | 143kB 3.9MB/s eta 0:00:01\r\u001b[K     |██▎                             | 153kB 3.9MB/s eta 0:00:01\r\u001b[K     |██▌                             | 163kB 3.9MB/s eta 0:00:01\r\u001b[K     |██▋                             | 174kB 3.9MB/s eta 0:00:01\r\u001b[K     |██▊                             | 184kB 3.9MB/s eta 0:00:01\r\u001b[K     |███                             | 194kB 3.9MB/s eta 0:00:01\r\u001b[K     |███                             | 204kB 3.9MB/s eta 0:00:01\r\u001b[K     |███▏                            | 215kB 3.9MB/s eta 0:00:01\r\u001b[K     |███▍                            | 225kB 3.9MB/s eta 0:00:01\r\u001b[K     |███▌                            | 235kB 3.9MB/s eta 0:00:01\r\u001b[K     |███▊                            | 245kB 3.9MB/s eta 0:00:01\r\u001b[K     |███▉                            | 256kB 3.9MB/s eta 0:00:01\r\u001b[K     |████                            | 266kB 3.9MB/s eta 0:00:01\r\u001b[K     |████▏                           | 276kB 3.9MB/s eta 0:00:01\r\u001b[K     |████▎                           | 286kB 3.9MB/s eta 0:00:01\r\u001b[K     |████▍                           | 296kB 3.9MB/s eta 0:00:01\r\u001b[K     |████▋                           | 307kB 3.9MB/s eta 0:00:01\r\u001b[K     |████▊                           | 317kB 3.9MB/s eta 0:00:01\r\u001b[K     |█████                           | 327kB 3.9MB/s eta 0:00:01\r\u001b[K     |█████                           | 337kB 3.9MB/s eta 0:00:01\r\u001b[K     |█████▏                          | 348kB 3.9MB/s eta 0:00:01\r\u001b[K     |█████▍                          | 358kB 3.9MB/s eta 0:00:01\r\u001b[K     |█████▌                          | 368kB 3.9MB/s eta 0:00:01\r\u001b[K     |█████▋                          | 378kB 3.9MB/s eta 0:00:01\r\u001b[K     |█████▉                          | 389kB 3.9MB/s eta 0:00:01\r\u001b[K     |██████                          | 399kB 3.9MB/s eta 0:00:01\r\u001b[K     |██████▏                         | 409kB 3.9MB/s eta 0:00:01\r\u001b[K     |██████▎                         | 419kB 3.9MB/s eta 0:00:01\r\u001b[K     |██████▍                         | 430kB 3.9MB/s eta 0:00:01\r\u001b[K     |██████▋                         | 440kB 3.9MB/s eta 0:00:01\r\u001b[K     |██████▊                         | 450kB 3.9MB/s eta 0:00:01\r\u001b[K     |██████▉                         | 460kB 3.9MB/s eta 0:00:01\r\u001b[K     |███████                         | 471kB 3.9MB/s eta 0:00:01\r\u001b[K     |███████▏                        | 481kB 3.9MB/s eta 0:00:01\r\u001b[K     |███████▍                        | 491kB 3.9MB/s eta 0:00:01\r\u001b[K     |███████▌                        | 501kB 3.9MB/s eta 0:00:01\r\u001b[K     |███████▋                        | 512kB 3.9MB/s eta 0:00:01\r\u001b[K     |███████▉                        | 522kB 3.9MB/s eta 0:00:01\r\u001b[K     |████████                        | 532kB 3.9MB/s eta 0:00:01\r\u001b[K     |████████▏                       | 542kB 3.9MB/s eta 0:00:01\r\u001b[K     |████████▎                       | 552kB 3.9MB/s eta 0:00:01\r\u001b[K     |████████▍                       | 563kB 3.9MB/s eta 0:00:01\r\u001b[K     |████████▋                       | 573kB 3.9MB/s eta 0:00:01\r\u001b[K     |████████▊                       | 583kB 3.9MB/s eta 0:00:01\r\u001b[K     |████████▉                       | 593kB 3.9MB/s eta 0:00:01\r\u001b[K     |█████████                       | 604kB 3.9MB/s eta 0:00:01\r\u001b[K     |█████████▏                      | 614kB 3.9MB/s eta 0:00:01\r\u001b[K     |█████████▍                      | 624kB 3.9MB/s eta 0:00:01\r\u001b[K     |█████████▌                      | 634kB 3.9MB/s eta 0:00:01\r\u001b[K     |█████████▋                      | 645kB 3.9MB/s eta 0:00:01\r\u001b[K     |█████████▉                      | 655kB 3.9MB/s eta 0:00:01\r\u001b[K     |██████████                      | 665kB 3.9MB/s eta 0:00:01\r\u001b[K     |██████████                      | 675kB 3.9MB/s eta 0:00:01\r\u001b[K     |██████████▎                     | 686kB 3.9MB/s eta 0:00:01\r\u001b[K     |██████████▍                     | 696kB 3.9MB/s eta 0:00:01\r\u001b[K     |██████████▋                     | 706kB 3.9MB/s eta 0:00:01\r\u001b[K     |██████████▊                     | 716kB 3.9MB/s eta 0:00:01\r\u001b[K     |██████████▉                     | 727kB 3.9MB/s eta 0:00:01\r\u001b[K     |███████████                     | 737kB 3.9MB/s eta 0:00:01\r\u001b[K     |███████████▏                    | 747kB 3.9MB/s eta 0:00:01\r\u001b[K     |███████████▎                    | 757kB 3.9MB/s eta 0:00:01\r\u001b[K     |███████████▌                    | 768kB 3.9MB/s eta 0:00:01\r\u001b[K     |███████████▋                    | 778kB 3.9MB/s eta 0:00:01\r\u001b[K     |███████████▉                    | 788kB 3.9MB/s eta 0:00:01\r\u001b[K     |████████████                    | 798kB 3.9MB/s eta 0:00:01\r\u001b[K     |████████████                    | 808kB 3.9MB/s eta 0:00:01\r\u001b[K     |████████████▎                   | 819kB 3.9MB/s eta 0:00:01\r\u001b[K     |████████████▍                   | 829kB 3.9MB/s eta 0:00:01\r\u001b[K     |████████████▌                   | 839kB 3.9MB/s eta 0:00:01\r\u001b[K     |████████████▊                   | 849kB 3.9MB/s eta 0:00:01\r\u001b[K     |████████████▉                   | 860kB 3.9MB/s eta 0:00:01\r\u001b[K     |█████████████                   | 870kB 3.9MB/s eta 0:00:01\r\u001b[K     |█████████████▏                  | 880kB 3.9MB/s eta 0:00:01\r\u001b[K     |█████████████▎                  | 890kB 3.9MB/s eta 0:00:01\r\u001b[K     |█████████████▌                  | 901kB 3.9MB/s eta 0:00:01\r\u001b[K     |█████████████▋                  | 911kB 3.9MB/s eta 0:00:01\r\u001b[K     |█████████████▊                  | 921kB 3.9MB/s eta 0:00:01\r\u001b[K     |██████████████                  | 931kB 3.9MB/s eta 0:00:01\r\u001b[K     |██████████████                  | 942kB 3.9MB/s eta 0:00:01\r\u001b[K     |██████████████▎                 | 952kB 3.9MB/s eta 0:00:01\r\u001b[K     |██████████████▍                 | 962kB 3.9MB/s eta 0:00:01\r\u001b[K     |██████████████▌                 | 972kB 3.9MB/s eta 0:00:01\r\u001b[K     |██████████████▊                 | 983kB 3.9MB/s eta 0:00:01\r\u001b[K     |██████████████▉                 | 993kB 3.9MB/s eta 0:00:01\r\u001b[K     |███████████████                 | 1.0MB 3.9MB/s eta 0:00:01\r\u001b[K     |███████████████▏                | 1.0MB 3.9MB/s eta 0:00:01\r\u001b[K     |███████████████▎                | 1.0MB 3.9MB/s eta 0:00:01\r\u001b[K     |███████████████▌                | 1.0MB 3.9MB/s eta 0:00:01\r\u001b[K     |███████████████▋                | 1.0MB 3.9MB/s eta 0:00:01\r\u001b[K     |███████████████▊                | 1.1MB 3.9MB/s eta 0:00:01\r\u001b[K     |████████████████                | 1.1MB 3.9MB/s eta 0:00:01\r\u001b[K     |████████████████                | 1.1MB 3.9MB/s eta 0:00:01\r\u001b[K     |████████████████▎               | 1.1MB 3.9MB/s eta 0:00:01\r\u001b[K     |████████████████▍               | 1.1MB 3.9MB/s eta 0:00:01\r\u001b[K     |████████████████▌               | 1.1MB 3.9MB/s eta 0:00:01\r\u001b[K     |████████████████▊               | 1.1MB 3.9MB/s eta 0:00:01\r\u001b[K     |████████████████▉               | 1.1MB 3.9MB/s eta 0:00:01\r\u001b[K     |█████████████████               | 1.1MB 3.9MB/s eta 0:00:01\r\u001b[K     |█████████████████▏              | 1.1MB 3.9MB/s eta 0:00:01\r\u001b[K     |█████████████████▎              | 1.2MB 3.9MB/s eta 0:00:01\r\u001b[K     |█████████████████▌              | 1.2MB 3.9MB/s eta 0:00:01\r\u001b[K     |█████████████████▋              | 1.2MB 3.9MB/s eta 0:00:01\r\u001b[K     |█████████████████▊              | 1.2MB 3.9MB/s eta 0:00:01\r\u001b[K     |██████████████████              | 1.2MB 3.9MB/s eta 0:00:01\r\u001b[K     |██████████████████              | 1.2MB 3.9MB/s eta 0:00:01\r\u001b[K     |██████████████████▏             | 1.2MB 3.9MB/s eta 0:00:01\r\u001b[K     |██████████████████▍             | 1.2MB 3.9MB/s eta 0:00:01\r\u001b[K     |██████████████████▌             | 1.2MB 3.9MB/s eta 0:00:01\r\u001b[K     |██████████████████▊             | 1.2MB 3.9MB/s eta 0:00:01\r\u001b[K     |██████████████████▉             | 1.3MB 3.9MB/s eta 0:00:01\r\u001b[K     |███████████████████             | 1.3MB 3.9MB/s eta 0:00:01\r\u001b[K     |███████████████████▏            | 1.3MB 3.9MB/s eta 0:00:01\r\u001b[K     |███████████████████▎            | 1.3MB 3.9MB/s eta 0:00:01\r\u001b[K     |███████████████████▍            | 1.3MB 3.9MB/s eta 0:00:01\r\u001b[K     |███████████████████▋            | 1.3MB 3.9MB/s eta 0:00:01\r\u001b[K     |███████████████████▊            | 1.3MB 3.9MB/s eta 0:00:01\r\u001b[K     |████████████████████            | 1.3MB 3.9MB/s eta 0:00:01\r\u001b[K     |████████████████████            | 1.3MB 3.9MB/s eta 0:00:01\r\u001b[K     |████████████████████▏           | 1.4MB 3.9MB/s eta 0:00:01\r\u001b[K     |████████████████████▍           | 1.4MB 3.9MB/s eta 0:00:01\r\u001b[K     |████████████████████▌           | 1.4MB 3.9MB/s eta 0:00:01\r\u001b[K     |████████████████████▋           | 1.4MB 3.9MB/s eta 0:00:01\r\u001b[K     |████████████████████▉           | 1.4MB 3.9MB/s eta 0:00:01\r\u001b[K     |█████████████████████           | 1.4MB 3.9MB/s eta 0:00:01\r\u001b[K     |█████████████████████▏          | 1.4MB 3.9MB/s eta 0:00:01\r\u001b[K     |█████████████████████▎          | 1.4MB 3.9MB/s eta 0:00:01\r\u001b[K     |█████████████████████▍          | 1.4MB 3.9MB/s eta 0:00:01\r\u001b[K     |█████████████████████▋          | 1.4MB 3.9MB/s eta 0:00:01\r\u001b[K     |█████████████████████▊          | 1.5MB 3.9MB/s eta 0:00:01\r\u001b[K     |██████████████████████          | 1.5MB 3.9MB/s eta 0:00:01\r\u001b[K     |██████████████████████          | 1.5MB 3.9MB/s eta 0:00:01\r\u001b[K     |██████████████████████▏         | 1.5MB 3.9MB/s eta 0:00:01\r\u001b[K     |██████████████████████▍         | 1.5MB 3.9MB/s eta 0:00:01\r\u001b[K     |██████████████████████▌         | 1.5MB 3.9MB/s eta 0:00:01\r\u001b[K     |██████████████████████▋         | 1.5MB 3.9MB/s eta 0:00:01\r\u001b[K     |██████████████████████▉         | 1.5MB 3.9MB/s eta 0:00:01\r\u001b[K     |███████████████████████         | 1.5MB 3.9MB/s eta 0:00:01\r\u001b[K     |███████████████████████▏        | 1.5MB 3.9MB/s eta 0:00:01\r\u001b[K     |███████████████████████▎        | 1.6MB 3.9MB/s eta 0:00:01\r\u001b[K     |███████████████████████▍        | 1.6MB 3.9MB/s eta 0:00:01\r\u001b[K     |███████████████████████▋        | 1.6MB 3.9MB/s eta 0:00:01\r\u001b[K     |███████████████████████▊        | 1.6MB 3.9MB/s eta 0:00:01\r\u001b[K     |███████████████████████▉        | 1.6MB 3.9MB/s eta 0:00:01\r\u001b[K     |████████████████████████        | 1.6MB 3.9MB/s eta 0:00:01\r\u001b[K     |████████████████████████▏       | 1.6MB 3.9MB/s eta 0:00:01\r\u001b[K     |████████████████████████▍       | 1.6MB 3.9MB/s eta 0:00:01\r\u001b[K     |████████████████████████▌       | 1.6MB 3.9MB/s eta 0:00:01\r\u001b[K     |████████████████████████▋       | 1.6MB 3.9MB/s eta 0:00:01\r\u001b[K     |████████████████████████▉       | 1.7MB 3.9MB/s eta 0:00:01\r\u001b[K     |█████████████████████████       | 1.7MB 3.9MB/s eta 0:00:01\r\u001b[K     |█████████████████████████       | 1.7MB 3.9MB/s eta 0:00:01\r\u001b[K     |█████████████████████████▎      | 1.7MB 3.9MB/s eta 0:00:01\r\u001b[K     |█████████████████████████▍      | 1.7MB 3.9MB/s eta 0:00:01\r\u001b[K     |█████████████████████████▋      | 1.7MB 3.9MB/s eta 0:00:01\r\u001b[K     |█████████████████████████▊      | 1.7MB 3.9MB/s eta 0:00:01\r\u001b[K     |█████████████████████████▉      | 1.7MB 3.9MB/s eta 0:00:01\r\u001b[K     |██████████████████████████      | 1.7MB 3.9MB/s eta 0:00:01\r\u001b[K     |██████████████████████████▏     | 1.8MB 3.9MB/s eta 0:00:01\r\u001b[K     |██████████████████████████▎     | 1.8MB 3.9MB/s eta 0:00:01\r\u001b[K     |██████████████████████████▌     | 1.8MB 3.9MB/s eta 0:00:01\r\u001b[K     |██████████████████████████▋     | 1.8MB 3.9MB/s eta 0:00:01\r\u001b[K     |██████████████████████████▉     | 1.8MB 3.9MB/s eta 0:00:01\r\u001b[K     |███████████████████████████     | 1.8MB 3.9MB/s eta 0:00:01\r\u001b[K     |███████████████████████████     | 1.8MB 3.9MB/s eta 0:00:01\r\u001b[K     |███████████████████████████▎    | 1.8MB 3.9MB/s eta 0:00:01\r\u001b[K     |███████████████████████████▍    | 1.8MB 3.9MB/s eta 0:00:01\r\u001b[K     |███████████████████████████▌    | 1.8MB 3.9MB/s eta 0:00:01\r\u001b[K     |███████████████████████████▊    | 1.9MB 3.9MB/s eta 0:00:01\r\u001b[K     |███████████████████████████▉    | 1.9MB 3.9MB/s eta 0:00:01\r\u001b[K     |████████████████████████████    | 1.9MB 3.9MB/s eta 0:00:01\r\u001b[K     |████████████████████████████▏   | 1.9MB 3.9MB/s eta 0:00:01\r\u001b[K     |████████████████████████████▎   | 1.9MB 3.9MB/s eta 0:00:01\r\u001b[K     |████████████████████████████▌   | 1.9MB 3.9MB/s eta 0:00:01\r\u001b[K     |████████████████████████████▋   | 1.9MB 3.9MB/s eta 0:00:01\r\u001b[K     |████████████████████████████▉   | 1.9MB 3.9MB/s eta 0:00:01\r\u001b[K     |█████████████████████████████   | 1.9MB 3.9MB/s eta 0:00:01\r\u001b[K     |█████████████████████████████   | 1.9MB 3.9MB/s eta 0:00:01\r\u001b[K     |█████████████████████████████▎  | 2.0MB 3.9MB/s eta 0:00:01\r\u001b[K     |█████████████████████████████▍  | 2.0MB 3.9MB/s eta 0:00:01\r\u001b[K     |█████████████████████████████▌  | 2.0MB 3.9MB/s eta 0:00:01\r\u001b[K     |█████████████████████████████▊  | 2.0MB 3.9MB/s eta 0:00:01\r\u001b[K     |█████████████████████████████▉  | 2.0MB 3.9MB/s eta 0:00:01\r\u001b[K     |██████████████████████████████  | 2.0MB 3.9MB/s eta 0:00:01\r\u001b[K     |██████████████████████████████▏ | 2.0MB 3.9MB/s eta 0:00:01\r\u001b[K     |██████████████████████████████▎ | 2.0MB 3.9MB/s eta 0:00:01\r\u001b[K     |██████████████████████████████▌ | 2.0MB 3.9MB/s eta 0:00:01\r\u001b[K     |██████████████████████████████▋ | 2.0MB 3.9MB/s eta 0:00:01\r\u001b[K     |██████████████████████████████▊ | 2.1MB 3.9MB/s eta 0:00:01\r\u001b[K     |███████████████████████████████ | 2.1MB 3.9MB/s eta 0:00:01\r\u001b[K     |███████████████████████████████ | 2.1MB 3.9MB/s eta 0:00:01\r\u001b[K     |███████████████████████████████▎| 2.1MB 3.9MB/s eta 0:00:01\r\u001b[K     |███████████████████████████████▍| 2.1MB 3.9MB/s eta 0:00:01\r\u001b[K     |███████████████████████████████▌| 2.1MB 3.9MB/s eta 0:00:01\r\u001b[K     |███████████████████████████████▊| 2.1MB 3.9MB/s eta 0:00:01\r\u001b[K     |███████████████████████████████▉| 2.1MB 3.9MB/s eta 0:00:01\r\u001b[K     |████████████████████████████████| 2.1MB 3.9MB/s eta 0:00:01\r\u001b[K     |████████████████████████████████| 2.2MB 3.9MB/s \n",
            "\u001b[?25h  Building wheel for lux-widget (setup.py) ... \u001b[?25l\u001b[?25hdone\n",
            "\u001b[K     |████████████████████████████████| 102kB 3.8MB/s \n",
            "\u001b[?25h  Building wheel for lux-api (setup.py) ... \u001b[?25l\u001b[?25hdone\n"
          ],
          "name": "stdout"
        }
      ]
    },
    {
      "cell_type": "code",
      "metadata": {
        "id": "uRsuEbWnMK1h"
      },
      "source": [
        "# importing libs\n",
        "\n",
        "import lux\n",
        "import pandas as pd\n",
        "import numpy as np\n",
        "import seaborn as sns\n",
        "import matplotlib.pyplot as plt\n",
        "import sklearn\n",
        "from sklearn.linear_model import LinearRegression\n",
        "from sklearn.preprocessing import StandardScaler , LabelEncoder\n",
        "from sklearn.decomposition import PCA\n",
        "from sklearn.model_selection import *\n",
        "from sklearn.ensemble import *\n",
        "from sklearn.metrics import *\n",
        "from xgboost import XGBRegressor\n",
        "from sklearn.neural_network import MLPRegressor"
      ],
      "execution_count": null,
      "outputs": []
    },
    {
      "cell_type": "code",
      "metadata": {
        "colab": {
          "base_uri": "https://localhost:8080/",
          "height": 666
        },
        "id": "mPpY_yJRMf1K",
        "outputId": "fb6927a5-7bfc-46cc-887b-d50d80ce2f7a"
      },
      "source": [
        "# load dataset\n",
        "\n",
        "df = pd.read_csv('/content/kc_house_data.csv', sep =',')\n",
        "df.head()"
      ],
      "execution_count": null,
      "outputs": [
        {
          "output_type": "stream",
          "text": [
            "/usr/local/lib/python3.7/dist-packages/lux/executor/PandasExecutor.py:401: UserWarning:\n",
            "Lux detects that attributes ['date', 'yr_built'] may be temporal.\n",
            "To display visualizations for these attributes accurately, please convert temporal attributes to Pandas Datetime objects using the pd.to_datetime function and provide a 'format' parameter to specify the datetime format of the attribute.\n",
            "For example, you can convert a year-only attribute (e.g., 1998, 1971, 1982) to Datetime type by specifying the `format` as '%Y'.\n",
            "\n",
            "Here is a starter template that you can use for converting the temporal fields:\n",
            "\tdf['date'] = pd.to_datetime(df['date'], format='<replace-with-datetime-format>')\n",
            "\tdf['yr_built'] = pd.to_datetime(df['yr_built'], format='<replace-with-datetime-format>')\n",
            "\n",
            "See more at: https://pandas.pydata.org/pandas-docs/stable/reference/api/pandas.to_datetime.html\n",
            "If yr_built is not a temporal attribute, please use override Lux's automatically detected type:\n",
            "\tdf.set_data_type({'yr_built':'quantitative'})\n",
            "/usr/local/lib/python3.7/dist-packages/lux/executor/PandasExecutor.py:401: UserWarning:\n",
            "Lux detects that attributes ['date', 'yr_built'] may be temporal.\n",
            "To display visualizations for these attributes accurately, please convert temporal attributes to Pandas Datetime objects using the pd.to_datetime function and provide a 'format' parameter to specify the datetime format of the attribute.\n",
            "For example, you can convert a year-only attribute (e.g., 1998, 1971, 1982) to Datetime type by specifying the `format` as '%Y'.\n",
            "\n",
            "Here is a starter template that you can use for converting the temporal fields:\n",
            "\tdf['date'] = pd.to_datetime(df['date'], format='<replace-with-datetime-format>')\n",
            "\tdf['yr_built'] = pd.to_datetime(df['yr_built'], format='<replace-with-datetime-format>')\n",
            "\n",
            "See more at: https://pandas.pydata.org/pandas-docs/stable/reference/api/pandas.to_datetime.html\n",
            "If yr_built is not a temporal attribute, please use override Lux's automatically detected type:\n",
            "\tdf.set_data_type({'yr_built':'quantitative'})\n",
            "/usr/local/lib/python3.7/dist-packages/IPython/core/formatters.py:338: UserWarning:\n",
            "Lux defaults to Pandas when there are no valid actions defined.\n"
          ],
          "name": "stderr"
        },
        {
          "output_type": "display_data",
          "data": {
            "text/html": [
              "<div>\n",
              "<style scoped>\n",
              "    .dataframe tbody tr th:only-of-type {\n",
              "        vertical-align: middle;\n",
              "    }\n",
              "\n",
              "    .dataframe tbody tr th {\n",
              "        vertical-align: top;\n",
              "    }\n",
              "\n",
              "    .dataframe thead th {\n",
              "        text-align: right;\n",
              "    }\n",
              "</style>\n",
              "<table border=\"1\" class=\"dataframe\">\n",
              "  <thead>\n",
              "    <tr style=\"text-align: right;\">\n",
              "      <th></th>\n",
              "      <th>id</th>\n",
              "      <th>date</th>\n",
              "      <th>price</th>\n",
              "      <th>bedrooms</th>\n",
              "      <th>bathrooms</th>\n",
              "      <th>sqft_living</th>\n",
              "      <th>sqft_lot</th>\n",
              "      <th>floors</th>\n",
              "      <th>waterfront</th>\n",
              "      <th>view</th>\n",
              "      <th>condition</th>\n",
              "      <th>grade</th>\n",
              "      <th>sqft_above</th>\n",
              "      <th>sqft_basement</th>\n",
              "      <th>yr_built</th>\n",
              "      <th>yr_renovated</th>\n",
              "      <th>zipcode</th>\n",
              "      <th>lat</th>\n",
              "      <th>long</th>\n",
              "      <th>sqft_living15</th>\n",
              "      <th>sqft_lot15</th>\n",
              "    </tr>\n",
              "  </thead>\n",
              "  <tbody>\n",
              "    <tr>\n",
              "      <th>0</th>\n",
              "      <td>7129300520</td>\n",
              "      <td>20141013T000000</td>\n",
              "      <td>221900.0</td>\n",
              "      <td>3</td>\n",
              "      <td>1.00</td>\n",
              "      <td>1180</td>\n",
              "      <td>5650</td>\n",
              "      <td>1.0</td>\n",
              "      <td>0</td>\n",
              "      <td>0</td>\n",
              "      <td>3</td>\n",
              "      <td>7</td>\n",
              "      <td>1180</td>\n",
              "      <td>0</td>\n",
              "      <td>1955</td>\n",
              "      <td>0</td>\n",
              "      <td>98178</td>\n",
              "      <td>47.5112</td>\n",
              "      <td>-122.257</td>\n",
              "      <td>1340</td>\n",
              "      <td>5650</td>\n",
              "    </tr>\n",
              "    <tr>\n",
              "      <th>1</th>\n",
              "      <td>6414100192</td>\n",
              "      <td>20141209T000000</td>\n",
              "      <td>538000.0</td>\n",
              "      <td>3</td>\n",
              "      <td>2.25</td>\n",
              "      <td>2570</td>\n",
              "      <td>7242</td>\n",
              "      <td>2.0</td>\n",
              "      <td>0</td>\n",
              "      <td>0</td>\n",
              "      <td>3</td>\n",
              "      <td>7</td>\n",
              "      <td>2170</td>\n",
              "      <td>400</td>\n",
              "      <td>1951</td>\n",
              "      <td>1991</td>\n",
              "      <td>98125</td>\n",
              "      <td>47.7210</td>\n",
              "      <td>-122.319</td>\n",
              "      <td>1690</td>\n",
              "      <td>7639</td>\n",
              "    </tr>\n",
              "    <tr>\n",
              "      <th>2</th>\n",
              "      <td>5631500400</td>\n",
              "      <td>20150225T000000</td>\n",
              "      <td>180000.0</td>\n",
              "      <td>2</td>\n",
              "      <td>1.00</td>\n",
              "      <td>770</td>\n",
              "      <td>10000</td>\n",
              "      <td>1.0</td>\n",
              "      <td>0</td>\n",
              "      <td>0</td>\n",
              "      <td>3</td>\n",
              "      <td>6</td>\n",
              "      <td>770</td>\n",
              "      <td>0</td>\n",
              "      <td>1933</td>\n",
              "      <td>0</td>\n",
              "      <td>98028</td>\n",
              "      <td>47.7379</td>\n",
              "      <td>-122.233</td>\n",
              "      <td>2720</td>\n",
              "      <td>8062</td>\n",
              "    </tr>\n",
              "    <tr>\n",
              "      <th>3</th>\n",
              "      <td>2487200875</td>\n",
              "      <td>20141209T000000</td>\n",
              "      <td>604000.0</td>\n",
              "      <td>4</td>\n",
              "      <td>3.00</td>\n",
              "      <td>1960</td>\n",
              "      <td>5000</td>\n",
              "      <td>1.0</td>\n",
              "      <td>0</td>\n",
              "      <td>0</td>\n",
              "      <td>5</td>\n",
              "      <td>7</td>\n",
              "      <td>1050</td>\n",
              "      <td>910</td>\n",
              "      <td>1965</td>\n",
              "      <td>0</td>\n",
              "      <td>98136</td>\n",
              "      <td>47.5208</td>\n",
              "      <td>-122.393</td>\n",
              "      <td>1360</td>\n",
              "      <td>5000</td>\n",
              "    </tr>\n",
              "    <tr>\n",
              "      <th>4</th>\n",
              "      <td>1954400510</td>\n",
              "      <td>20150218T000000</td>\n",
              "      <td>510000.0</td>\n",
              "      <td>3</td>\n",
              "      <td>2.00</td>\n",
              "      <td>1680</td>\n",
              "      <td>8080</td>\n",
              "      <td>1.0</td>\n",
              "      <td>0</td>\n",
              "      <td>0</td>\n",
              "      <td>3</td>\n",
              "      <td>8</td>\n",
              "      <td>1680</td>\n",
              "      <td>0</td>\n",
              "      <td>1987</td>\n",
              "      <td>0</td>\n",
              "      <td>98074</td>\n",
              "      <td>47.6168</td>\n",
              "      <td>-122.045</td>\n",
              "      <td>1800</td>\n",
              "      <td>7503</td>\n",
              "    </tr>\n",
              "  </tbody>\n",
              "</table>\n",
              "</div>"
            ],
            "text/plain": [
              "           id             date     price  ...     long  sqft_living15  sqft_lot15\n",
              "0  7129300520  20141013T000000  221900.0  ... -122.257           1340        5650\n",
              "1  6414100192  20141209T000000  538000.0  ... -122.319           1690        7639\n",
              "2  5631500400  20150225T000000  180000.0  ... -122.233           2720        8062\n",
              "3  2487200875  20141209T000000  604000.0  ... -122.393           1360        5000\n",
              "4  1954400510  20150218T000000  510000.0  ... -122.045           1800        7503\n",
              "\n",
              "[5 rows x 21 columns]"
            ]
          },
          "metadata": {
            "tags": []
          }
        },
        {
          "output_type": "execute_result",
          "data": {
            "text/plain": [
              ""
            ]
          },
          "metadata": {
            "tags": []
          },
          "execution_count": 12
        }
      ]
    },
    {
      "cell_type": "code",
      "metadata": {
        "colab": {
          "base_uri": "https://localhost:8080/"
        },
        "id": "pLIStZ5tM1UX",
        "outputId": "25d16a00-21ca-4009-b2fa-aa5caa1d5d43"
      },
      "source": [
        "df.shape"
      ],
      "execution_count": null,
      "outputs": [
        {
          "output_type": "execute_result",
          "data": {
            "text/plain": [
              "(21613, 21)"
            ]
          },
          "metadata": {
            "tags": []
          },
          "execution_count": 4
        }
      ]
    },
    {
      "cell_type": "code",
      "metadata": {
        "colab": {
          "base_uri": "https://localhost:8080/"
        },
        "id": "4LBVopjWjUSI",
        "outputId": "ea368408-8f7f-4795-f718-3736a4cd8cda"
      },
      "source": [
        "df.info()"
      ],
      "execution_count": null,
      "outputs": [
        {
          "output_type": "stream",
          "text": [
            "<class 'lux.core.frame.LuxDataFrame'>\n",
            "RangeIndex: 21613 entries, 0 to 21612\n",
            "Data columns (total 21 columns):\n",
            " #   Column         Non-Null Count  Dtype  \n",
            "---  ------         --------------  -----  \n",
            " 0   id             21613 non-null  int64  \n",
            " 1   date           21613 non-null  object \n",
            " 2   price          21613 non-null  float64\n",
            " 3   bedrooms       21613 non-null  int64  \n",
            " 4   bathrooms      21613 non-null  float64\n",
            " 5   sqft_living    21613 non-null  int64  \n",
            " 6   sqft_lot       21613 non-null  int64  \n",
            " 7   floors         21613 non-null  float64\n",
            " 8   waterfront     21613 non-null  int64  \n",
            " 9   view           21613 non-null  int64  \n",
            " 10  condition      21613 non-null  int64  \n",
            " 11  grade          21613 non-null  int64  \n",
            " 12  sqft_above     21613 non-null  int64  \n",
            " 13  sqft_basement  21613 non-null  int64  \n",
            " 14  yr_built       21613 non-null  int64  \n",
            " 15  yr_renovated   21613 non-null  int64  \n",
            " 16  zipcode        21613 non-null  int64  \n",
            " 17  lat            21613 non-null  float64\n",
            " 18  long           21613 non-null  float64\n",
            " 19  sqft_living15  21613 non-null  int64  \n",
            " 20  sqft_lot15     21613 non-null  int64  \n",
            "dtypes: float64(5), int64(15), object(1)\n",
            "memory usage: 3.5+ MB\n"
          ],
          "name": "stdout"
        }
      ]
    },
    {
      "cell_type": "code",
      "metadata": {
        "colab": {
          "base_uri": "https://localhost:8080/",
          "height": 349,
          "referenced_widgets": [
            "cdcd231abd3c4f52b127bd986306c610",
            "f6a81e6500b440e8a2be01749db488fe",
            "d4e574561e1d4d5fb55e5a90fcf770cd",
            "c3564cfd3e6b4cba87a55bc2ba2640b9",
            "633d8cf0382c46c6bbfa9944c7e11a19"
          ]
        },
        "id": "IlIuoVpnjV6G",
        "outputId": "884f9f95-9a61-484f-c45f-d299a341b1d1"
      },
      "source": [
        "df.describe()"
      ],
      "execution_count": null,
      "outputs": [
        {
          "output_type": "display_data",
          "data": {
            "application/vnd.jupyter.widget-view+json": {
              "model_id": "cdcd231abd3c4f52b127bd986306c610",
              "version_minor": 0,
              "version_major": 2
            },
            "text/plain": [
              "Button(description='Toggle Pandas/Lux', layout=Layout(top='5px', width='140px'), style=ButtonStyle())"
            ]
          },
          "metadata": {
            "tags": []
          }
        },
        {
          "output_type": "display_data",
          "data": {
            "application/vnd.jupyter.widget-view+json": {
              "model_id": "c3564cfd3e6b4cba87a55bc2ba2640b9",
              "version_minor": 0,
              "version_major": 2
            },
            "text/plain": [
              "Output()"
            ]
          },
          "metadata": {
            "tags": []
          }
        },
        {
          "output_type": "execute_result",
          "data": {
            "text/plain": [
              ""
            ]
          },
          "metadata": {
            "tags": []
          },
          "execution_count": 6
        }
      ]
    },
    {
      "cell_type": "code",
      "metadata": {
        "colab": {
          "base_uri": "https://localhost:8080/",
          "height": 369
        },
        "id": "7VzeWdnyM1hT",
        "outputId": "221ad4de-85be-42f3-8a1c-dbfd386e1f33"
      },
      "source": [
        "# ploting price distribuition\n",
        "\n",
        "sns.displot(data = df, x='price', bins = 15)\n",
        "plt.grid()"
      ],
      "execution_count": null,
      "outputs": [
        {
          "output_type": "display_data",
          "data": {
            "image/png": "[encoded data removed]",
            "text/plain": [
              "<Figure size 360x360 with 1 Axes>"
            ]
          },
          "metadata": {
            "tags": [],
            "needs_background": "light"
          }
        }
      ]
    },
    {
      "cell_type": "code",
      "metadata": {
        "id": "DgRj1MNlOiLo"
      },
      "source": [
        "# label encoding zipcode\n",
        "\n",
        "le = LabelEncoder()\n",
        "le.fit(df['zipcode'])\n",
        "df['zipcode'] = le.transform(df['zipcode'])"
      ],
      "execution_count": null,
      "outputs": []
    },
    {
      "cell_type": "code",
      "metadata": {
        "id": "rl6l_kG7Pbd9",
        "colab": {
          "base_uri": "https://localhost:8080/",
          "height": 423,
          "referenced_widgets": [
            "5ef5b0cb09ee4696b53359967d320e71",
            "9e39a38080c54b928a23dd5eeb454bfc",
            "11141d7e1a114736b555f5f482ce9b7b",
            "6977110e0ac441a1ac7e3f260ea34534",
            "62361827caaa46efa4d2b00353487d9c"
          ]
        },
        "outputId": "3f8fb56b-6f77-40fe-8d9e-bce0511d7ec2"
      },
      "source": [
        "# plot data correlation\n",
        "\n",
        "matrix_corr = df.corr(method='spearman')\n",
        "matrix_corr = matrix_corr['price'].sort_values(ascending=False)\n",
        "print(matrix_corr)"
      ],
      "execution_count": null,
      "outputs": [
        {
          "output_type": "display_data",
          "data": {
            "application/vnd.jupyter.widget-view+json": {
              "model_id": "5ef5b0cb09ee4696b53359967d320e71",
              "version_minor": 0,
              "version_major": 2
            },
            "text/plain": [
              "Button(description='Toggle Pandas/Lux', layout=Layout(top='5px', width='140px'), style=ButtonStyle())"
            ]
          },
          "metadata": {
            "tags": []
          }
        },
        {
          "output_type": "display_data",
          "data": {
            "application/vnd.jupyter.widget-view+json": {
              "model_id": "6977110e0ac441a1ac7e3f260ea34534",
              "version_minor": 0,
              "version_major": 2
            },
            "text/plain": [
              "Output()"
            ]
          },
          "metadata": {
            "tags": []
          }
        },
        {
          "output_type": "stream",
          "text": [
            "\n"
          ],
          "name": "stdout"
        }
      ]
    },
    {
      "cell_type": "code",
      "metadata": {
        "id": "GPrWXsusQUNe",
        "colab": {
          "base_uri": "https://localhost:8080/",
          "height": 364
        },
        "outputId": "b96b5fe8-9f85-4398-e9ff-1de84d880a20"
      },
      "source": [
        "# heatmap data correlation of each column\n",
        "\n",
        "matrix_corr = df.corr()\n",
        "sns.heatmap(matrix_corr,\n",
        "            xticklabels = matrix_corr.columns,\n",
        "            yticklabels = matrix_corr.columns , cmap = 'YlGnBu' )\n",
        "plt.title('Data Correlation' , size = 15 , weight = 'bold')"
      ],
      "execution_count": null,
      "outputs": [
        {
          "output_type": "execute_result",
          "data": {
            "text/plain": [
              "Text(0.5, 1.0, 'Data Correlation')"
            ]
          },
          "metadata": {
            "tags": []
          },
          "execution_count": 9
        },
        {
          "output_type": "display_data",
          "data": {
            "image/png": "[encoded data removed]",
            "text/plain": [
              "<Figure size 432x288 with 2 Axes>"
            ]
          },
          "metadata": {
            "tags": [],
            "needs_background": "light"
          }
        }
      ]
    },
    {
      "cell_type": "code",
      "metadata": {
        "id": "lSz0kupOUssg"
      },
      "source": [
        "# selecting best features\n",
        "\n",
        "features = df.iloc[: ,3:17]\n",
        "\n",
        "label = df['price'].values"
      ],
      "execution_count": null,
      "outputs": []
    },
    {
      "cell_type": "code",
      "metadata": {
        "id": "gawuqYBkVnLy"
      },
      "source": [
        "# scalling features\n",
        "\n",
        "scaler = StandardScaler()\n",
        "features = scaler.fit_transform(features)"
      ],
      "execution_count": null,
      "outputs": []
    },
    {
      "cell_type": "code",
      "metadata": {
        "colab": {
          "base_uri": "https://localhost:8080/"
        },
        "id": "Wbh55FRdKan-",
        "outputId": "b53520f1-4135-49e7-dc7d-69c326439544"
      },
      "source": [
        "# dimension reducing in components\n",
        "\n",
        "X = np.matrix(features)\n",
        "\n",
        "pca = PCA(n_components=4)\n",
        "pca.fit(X)\n",
        "\n",
        "components = np.round(pca.explained_variance_ratio_ , 2)\n",
        "print(components)"
      ],
      "execution_count": null,
      "outputs": [
        {
          "output_type": "stream",
          "text": [
            "[0.32 0.14 0.1  0.08]\n"
          ],
          "name": "stdout"
        }
      ]
    },
    {
      "cell_type": "code",
      "metadata": {
        "id": "E6Jiy9_ZKfSM"
      },
      "source": [
        "# inputing the new features in dataframe\n",
        "\n",
        "pca_1 = pca.transform(X)[:,0]\n",
        "pca_2 = pca.transform(X)[:,1]\n",
        "pca_3 = pca.transform(X)[:,2]\n",
        "pca_4 = pca.transform(X)[:,3]\n",
        "\n",
        "df['PCA1'] = pca_1\n",
        "df['PCA2'] = pca_2\n",
        "df['PCA3'] = pca_3\n",
        "df['PCA4'] = pca_4"
      ],
      "execution_count": null,
      "outputs": []
    },
    {
      "cell_type": "code",
      "metadata": {
        "id": "CPkQ_FgfL7RI"
      },
      "source": [
        "features = df[['PCA1','PCA2','PCA3','PCA4','grade']]"
      ],
      "execution_count": null,
      "outputs": []
    },
    {
      "cell_type": "code",
      "metadata": {
        "id": "kgBRffD6bCWc"
      },
      "source": [
        "# splitting the features\n",
        "\n",
        "train_features, test_features, train_labels, test_labels = train_test_split(features , label, \n",
        "                                                                            test_size = 0.25, \n",
        "                                                                            random_state = 0)"
      ],
      "execution_count": null,
      "outputs": []
    },
    {
      "cell_type": "code",
      "metadata": {
        "id": "SXz_N4ngSiaN"
      },
      "source": [
        "# testing lr model\n",
        "\n",
        "reg = LinearRegression()\n",
        "reg.fit(train_features , train_labels)\n",
        "predictions = reg.predict(test_features)"
      ],
      "execution_count": null,
      "outputs": []
    },
    {
      "cell_type": "code",
      "metadata": {
        "colab": {
          "base_uri": "https://localhost:8080/"
        },
        "id": "DKd3QHpzhwRi",
        "outputId": "d90fb401-ba45-433b-a76a-e3f5acdb93d3"
      },
      "source": [
        "# The coefficients\n",
        "\n",
        "print('Coefficients: \\n', reg.coef_)"
      ],
      "execution_count": null,
      "outputs": [
        {
          "output_type": "stream",
          "text": [
            "Coefficients: \n",
            " [ 95759.72315323  86840.19181052   3940.70790799  74934.58376477\n",
            " -13946.74729087  93075.58557437 -11134.70796546  75532.48952584\n",
            "  40004.35910113]\n"
          ],
          "name": "stdout"
        }
      ]
    },
    {
      "cell_type": "code",
      "metadata": {
        "colab": {
          "base_uri": "https://localhost:8080/"
        },
        "id": "JCx4HMldSicq",
        "outputId": "f388adbf-f715-48dc-aac0-b307f7d31f70"
      },
      "source": [
        "# evaluating model\n",
        "\n",
        "mae = mean_absolute_error(test_labels , predictions)\n",
        "mse = mean_squared_error(test_labels , predictions)\n",
        "print('Coefficient of determination: %.2f'\n",
        "      % r2_score(test_labels , predictions))\n",
        "print('Linear Regression MAE: ', mae)\n",
        "print('Linear Regression MSE: ', mse)"
      ],
      "execution_count": null,
      "outputs": [
        {
          "output_type": "stream",
          "text": [
            "Coefficient of determination: 0.63\n",
            "Linear Regression MAE:  135651.73997955734\n",
            "Linear Regression MSE:  48778769188.02147\n"
          ],
          "name": "stdout"
        }
      ]
    },
    {
      "cell_type": "code",
      "metadata": {
        "colab": {
          "base_uri": "https://localhost:8080/"
        },
        "id": "4l7ReR-beszQ",
        "outputId": "5dea3547-ffb2-4ab2-fd13-5c2d08535b6a"
      },
      "source": [
        "# test all hyperparams below\n",
        "\n",
        "param_grid = [{'n_estimators':[35,40,45,50,55,60,70,80,90,100,150,180,220,250,280],\n",
        "               'max_depth':[5,6,7,8,9,10,11,12]}]\n",
        "\n",
        "# building the regressor\n",
        "reg = sklearn.ensemble.RandomForestRegressor()\n",
        "\n",
        "# finding best hyperparams\n",
        "\n",
        "GS = GridSearchCV(reg , param_grid , scoring= 'neg_mean_absolute_error' , error_score= 'raise', cv=3)\n",
        "GS.fit(train_features, train_labels)\n",
        "print(GS.best_params_)"
      ],
      "execution_count": null,
      "outputs": [
        {
          "output_type": "stream",
          "text": [
            "{'max_depth': 12, 'n_estimators': 220}\n"
          ],
          "name": "stdout"
        }
      ]
    },
    {
      "cell_type": "code",
      "metadata": {
        "id": "6koauZNmSigD"
      },
      "source": [
        "# testing random forest model\n",
        "\n",
        "reg = RandomForestRegressor(n_estimators = GS.best_params_['n_estimators'] , \n",
        "                            max_depth = GS.best_params_['max_depth'])\n",
        "reg.fit(train_features , train_labels)\n",
        "predictions = reg.predict(test_features)"
      ],
      "execution_count": null,
      "outputs": []
    },
    {
      "cell_type": "code",
      "metadata": {
        "colab": {
          "base_uri": "https://localhost:8080/"
        },
        "id": "MvW9AfFveV3K",
        "outputId": "d56bd853-1751-4fe8-b36b-b973ea7c62e6"
      },
      "source": [
        "# evaluating model\n",
        "\n",
        "mae = mean_absolute_error(test_labels , predictions)\n",
        "mse = mean_squared_error(test_labels , predictions)\n",
        "print('Coefficient of determination: %.2f'\n",
        "      % r2_score(test_labels , predictions))\n",
        "print('Random Forest Regression MAE: ', mae)\n",
        "print('Random Forest Regression MSE: ', mse)"
      ],
      "execution_count": null,
      "outputs": [
        {
          "output_type": "stream",
          "text": [
            "Coefficient of determination: 0.63\n",
            "Random Forest Regression MAE:  135651.73997955734\n",
            "Random Forest Regression MSE:  48778769188.02147\n"
          ],
          "name": "stdout"
        }
      ]
    },
    {
      "cell_type": "code",
      "metadata": {
        "colab": {
          "base_uri": "https://localhost:8080/"
        },
        "id": "tQHgg8q_eqHu",
        "outputId": "09444bee-3434-48eb-84be-e91650d5becd"
      },
      "source": [
        "# test all hyperparams below\n",
        "\n",
        "param_grid = [{'max_depth':[4,5,6,7,8,9,10,11,12,13],\n",
        "               'n_estimators':[150,180,200,220],\n",
        "               'objective':['reg:squarederror'],\n",
        "               'eval_metric':['mae'],\n",
        "               'booster':['gbtree'],\n",
        "               'learning_rate':[0.5,0.7,0.9]}]\n",
        "\n",
        "reg = XGBRegressor()\n",
        "\n",
        "# finding best hyperparams\n",
        "\n",
        "GS = GridSearchCV(reg , param_grid , scoring= 'neg_mean_squared_error' , error_score= 'raise' , cv =3)\n",
        "GS.fit(train_features, train_labels)\n",
        "print(GS.best_params_)"
      ],
      "execution_count": null,
      "outputs": [
        {
          "output_type": "stream",
          "text": [
            "{'booster': 'gbtree', 'eval_metric': 'mae', 'learning_rate': 0.5, 'max_depth': 5, 'n_estimators': 150, 'objective': 'reg:squarederror'}\n"
          ],
          "name": "stdout"
        }
      ]
    },
    {
      "cell_type": "code",
      "metadata": {
        "id": "-_u1F3NbePxV"
      },
      "source": [
        "# testing xgboost model\n",
        "\n",
        "reg = XGBRegressor(n_estimators = GS.best_params_['n_estimators'] , \n",
        "                            max_depth = GS.best_params_['max_depth'],\n",
        "                   objective = GS.best_params_['objective'],\n",
        "                   eval_metric = GS.best_params_['eval_metric'],\n",
        "                   booster = GS.best_params_['booster'],\n",
        "                   learning_rate = GS.best_params_['learning_rate'])\n",
        "\n",
        "reg.fit(train_features , train_labels)\n",
        "predictions = reg.predict(test_features)"
      ],
      "execution_count": null,
      "outputs": []
    },
    {
      "cell_type": "code",
      "metadata": {
        "colab": {
          "base_uri": "https://localhost:8080/"
        },
        "id": "LQYKLKmieqRJ",
        "outputId": "7d157ad7-3c96-47a3-cb52-8c833082f3ca"
      },
      "source": [
        "# evaluating model\n",
        "\n",
        "mae = mean_absolute_error(test_labels , predictions)\n",
        "mse = mean_squared_error(test_labels , predictions)\n",
        "print('Coefficient of determination: %.2f'\n",
        "      % r2_score(test_labels , predictions))\n",
        "print('XGBoost MAE: ', mae)\n",
        "print('XGBoost MSE: ', mse)"
      ],
      "execution_count": null,
      "outputs": [
        {
          "output_type": "stream",
          "text": [
            "XGBoost MAE:  95046.63334595901\n",
            "XGBoost MSE:  28050141073.794792\n"
          ],
          "name": "stdout"
        }
      ]
    },
    {
      "cell_type": "code",
      "metadata": {
        "id": "U261cHp2eqcc"
      },
      "source": [
        ""
      ],
      "execution_count": null,
      "outputs": []
    }
  ]
}